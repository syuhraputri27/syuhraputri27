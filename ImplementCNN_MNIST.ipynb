{
  "nbformat": 4,
  "nbformat_minor": 0,
  "metadata": {
    "colab": {
      "provenance": [],
      "authorship_tag": "ABX9TyNA8q7QvFBUKXVR0opijanh",
      "include_colab_link": true
    },
    "kernelspec": {
      "name": "python3",
      "display_name": "Python 3"
    },
    "language_info": {
      "name": "python"
    }
  },
  "cells": [
    {
      "cell_type": "markdown",
      "metadata": {
        "id": "view-in-github",
        "colab_type": "text"
      },
      "source": [
        "<a href=\"https://colab.research.google.com/github/syuhraputri27/syuhraputri27/blob/main/ImplementCNN_MNIST.ipynb\" target=\"_parent\"><img src=\"https://colab.research.google.com/assets/colab-badge.svg\" alt=\"Open In Colab\"/></a>"
      ]
    },
    {
      "cell_type": "markdown",
      "source": [
        "Nama : Syuhra Putri Ganiswari\n",
        "\n",
        "NIM  : 22/505327/NPA/19811"
      ],
      "metadata": {
        "id": "LAAT41iYL2pz"
      }
    },
    {
      "cell_type": "markdown",
      "source": [
        "## **Importing Libraries**"
      ],
      "metadata": {
        "id": "r-86FmK73hI8"
      }
    },
    {
      "cell_type": "code",
      "execution_count": null,
      "metadata": {
        "colab": {
          "base_uri": "https://localhost:8080/"
        },
        "id": "u6OsW8RWL13V",
        "outputId": "1da47573-ab92-4447-87eb-eb3f54c41699"
      },
      "outputs": [
        {
          "output_type": "stream",
          "name": "stdout",
          "text": [
            "2.9.2\n"
          ]
        }
      ],
      "source": [
        "import tensorflow as tf\n",
        "import seaborn as sns\n",
        "import numpy as np\n",
        "import pandas as pd\n",
        "import matplotlib.pyplot as plt\n",
        "import matplotlib.image as mpimg\n",
        "print(tf.__version__)"
      ]
    },
    {
      "cell_type": "markdown",
      "source": [
        "## **Loading MNIST Dataset**"
      ],
      "metadata": {
        "id": "K32-Bz1R33JV"
      }
    },
    {
      "cell_type": "code",
      "source": [
        "mnist = tf.keras.datasets.mnist\n",
        "(training_images, training_labels), (test_images, test_labels) = mnist.load_data()"
      ],
      "metadata": {
        "id": "_8p7R8Kj37_A",
        "colab": {
          "base_uri": "https://localhost:8080/"
        },
        "outputId": "4674fce3-2ca1-4749-9bde-bcfa88853bad"
      },
      "execution_count": null,
      "outputs": [
        {
          "output_type": "stream",
          "name": "stdout",
          "text": [
            "Downloading data from https://storage.googleapis.com/tensorflow/tf-keras-datasets/mnist.npz\n",
            "11490434/11490434 [==============================] - 0s 0us/step\n"
          ]
        }
      ]
    },
    {
      "cell_type": "markdown",
      "source": [
        "## **Reshaping and Normalizing the data**"
      ],
      "metadata": {
        "id": "nxFeb9ww5nyo"
      }
    },
    {
      "cell_type": "code",
      "source": [
        "input_shape = (28, 28, 1)\n",
        "\n",
        "training_images = training_images.reshape(training_images.shape[0], training_images.shape[1], training_images.shape[2], 1)\n",
        "training_images = training_images/255.0\n",
        "test_images = test_images.reshape(test_images.shape[0], test_images.shape[1], test_images.shape[2], 1)\n",
        "test_images = test_images/255.0"
      ],
      "metadata": {
        "id": "rPZS-jCW5vcJ"
      },
      "execution_count": null,
      "outputs": []
    },
    {
      "cell_type": "code",
      "source": [
        "plt.imshow(training_images[100][:,:,0])\n",
        "print(training_labels[100])"
      ],
      "metadata": {
        "colab": {
          "base_uri": "https://localhost:8080/",
          "height": 282
        },
        "id": "5W7O9lUJ0IUk",
        "outputId": "b3b04866-4735-491e-f42c-4b78eadf8a48"
      },
      "execution_count": null,
      "outputs": [
        {
          "output_type": "stream",
          "name": "stdout",
          "text": [
            "5\n"
          ]
        },
        {
          "output_type": "display_data",
          "data": {
            "text/plain": [
              "<Figure size 432x288 with 1 Axes>"
            ],
            "image/png": "[encoded data removed]"
          },
          "metadata": {
            "needs_background": "light"
          }
        }
      ]
    },
    {
      "cell_type": "code",
      "source": [
        "# print(training_images[0])\n",
        "# print(test_images[0])"
      ],
      "metadata": {
        "id": "Za2gD9ax6U8w"
      },
      "execution_count": null,
      "outputs": []
    },
    {
      "cell_type": "markdown",
      "source": [
        "## **Creating Neural Network**"
      ],
      "metadata": {
        "id": "9pJoiW836jV0"
      }
    },
    {
      "cell_type": "code",
      "source": [
        "batch_size = 64\n",
        "num_classes = 10\n",
        "epochs = 5"
      ],
      "metadata": {
        "id": "q5reFq4e01J5"
      },
      "execution_count": null,
      "outputs": []
    },
    {
      "cell_type": "code",
      "source": [
        "callback_ES = tf.keras.callbacks.EarlyStopping(\n",
        "    monitor='loss',\n",
        "    min_delta=0.05,\n",
        "    patience=2,\n",
        "    verbose=0,\n",
        "    mode='auto',\n",
        "    baseline=None,\n",
        "    restore_best_weights=False\n",
        ")"
      ],
      "metadata": {
        "id": "9ITbMgWj0_pQ"
      },
      "execution_count": null,
      "outputs": []
    },
    {
      "cell_type": "code",
      "source": [
        "model = tf.keras.models.Sequential([\n",
        "    # 1st layer\n",
        "    tf.keras.layers.Conv2D(32, (2,2), activation='relu', input_shape=input_shape),\n",
        "    tf.keras.layers.BatchNormalization(),\n",
        "    tf.keras.layers.MaxPooling2D(),\n",
        "    tf.keras.layers.Dropout(0.5),\n",
        "    # 2nd layer\n",
        "    tf.keras.layers.Conv2D(32, (2,2), activation='relu', input_shape=(28, 28, 1)),\n",
        "    tf.keras.layers.BatchNormalization(),\n",
        "    tf.keras.layers.MaxPooling2D(strides=(2,2)),\n",
        "    tf.keras.layers.Dropout(0.5),\n",
        "\n",
        "    tf.keras.layers.Flatten(),\n",
        "    tf.keras.layers.BatchNormalization(),\n",
        "    tf.keras.layers.Dropout(0.25),\n",
        "    tf.keras.layers.Dense(128, activation='relu'),\n",
        "    tf.keras.layers.Dense(10, activation='softmax')\n",
        "\n",
        "])"
      ],
      "metadata": {
        "id": "tx8Cs3uU6uE4"
      },
      "execution_count": null,
      "outputs": []
    },
    {
      "cell_type": "code",
      "source": [
        "model.summary()"
      ],
      "metadata": {
        "colab": {
          "base_uri": "https://localhost:8080/"
        },
        "id": "rhw7csgZMx8W",
        "outputId": "cd3d42f9-0510-4e3a-bb35-cd31fc02a204"
      },
      "execution_count": null,
      "outputs": [
        {
          "output_type": "stream",
          "name": "stdout",
          "text": [
            "Model: \"sequential_3\"\n",
            "_________________________________________________________________\n",
            " Layer (type)                Output Shape              Param #   \n",
            "=================================================================\n",
            " conv2d_4 (Conv2D)           (None, 27, 27, 32)        160       \n",
            "                                                                 \n",
            " batch_normalization_6 (Batc  (None, 27, 27, 32)       128       \n",
            " hNormalization)                                                 \n",
            "                                                                 \n",
            " max_pooling2d_4 (MaxPooling  (None, 13, 13, 32)       0         \n",
            " 2D)                                                             \n",
            "                                                                 \n",
            " dropout_6 (Dropout)         (None, 13, 13, 32)        0         \n",
            "                                                                 \n",
            " conv2d_5 (Conv2D)           (None, 12, 12, 32)        4128      \n",
            "                                                                 \n",
            " batch_normalization_7 (Batc  (None, 12, 12, 32)       128       \n",
            " hNormalization)                                                 \n",
            "                                                                 \n",
            " max_pooling2d_5 (MaxPooling  (None, 6, 6, 32)         0         \n",
            " 2D)                                                             \n",
            "                                                                 \n",
            " dropout_7 (Dropout)         (None, 6, 6, 32)          0         \n",
            "                                                                 \n",
            " flatten_2 (Flatten)         (None, 1152)              0         \n",
            "                                                                 \n",
            " batch_normalization_8 (Batc  (None, 1152)             4608      \n",
            " hNormalization)                                                 \n",
            "                                                                 \n",
            " dropout_8 (Dropout)         (None, 1152)              0         \n",
            "                                                                 \n",
            " dense_4 (Dense)             (None, 128)               147584    \n",
            "                                                                 \n",
            " dense_5 (Dense)             (None, 10)                1290      \n",
            "                                                                 \n",
            "=================================================================\n",
            "Total params: 158,026\n",
            "Trainable params: 155,594\n",
            "Non-trainable params: 2,432\n",
            "_________________________________________________________________\n"
          ]
        }
      ]
    },
    {
      "cell_type": "code",
      "source": [
        "model.compile(optimizer='adam',loss='sparse_categorical_crossentropy', metrics=['accuracy'])"
      ],
      "metadata": {
        "id": "GavYoyiYM0QX"
      },
      "execution_count": null,
      "outputs": []
    },
    {
      "cell_type": "markdown",
      "source": [
        "## **Training and Evaluating the data**"
      ],
      "metadata": {
        "id": "DaCTVVwsNiBD"
      }
    },
    {
      "cell_type": "code",
      "source": [
        "history = model.fit(training_images, training_labels, batch_size=batch_size, epochs=epochs, validation_split=0.1, callbacks=[callback_ES])"
      ],
      "metadata": {
        "colab": {
          "base_uri": "https://localhost:8080/"
        },
        "id": "HAYZo9I6NlnE",
        "outputId": "bab104c5-3c56-4725-eda0-ff09bc0fc307"
      },
      "execution_count": null,
      "outputs": [
        {
          "output_type": "stream",
          "name": "stdout",
          "text": [
            "Epoch 1/5\n",
            "844/844 [==============================] - 62s 73ms/step - loss: 0.4925 - accuracy: 0.8384 - val_loss: 0.2575 - val_accuracy: 0.9163\n",
            "Epoch 2/5\n",
            "844/844 [==============================] - 62s 73ms/step - loss: 0.2266 - accuracy: 0.9264 - val_loss: 0.0919 - val_accuracy: 0.9717\n",
            "Epoch 3/5\n",
            "844/844 [==============================] - 63s 75ms/step - loss: 0.1787 - accuracy: 0.9431 - val_loss: 0.0643 - val_accuracy: 0.9827\n",
            "Epoch 4/5\n",
            "844/844 [==============================] - 62s 74ms/step - loss: 0.1506 - accuracy: 0.9512 - val_loss: 0.0942 - val_accuracy: 0.9733\n",
            "Epoch 5/5\n",
            "358/844 [===========>..................] - ETA: 34s - loss: 0.1413 - accuracy: 0.9558"
          ]
        }
      ]
    },
    {
      "cell_type": "markdown",
      "source": [
        "Graphs"
      ],
      "metadata": {
        "id": "fg-FvSfa7Eif"
      }
    },
    {
      "cell_type": "code",
      "source": [
        "fig, ax = plt.subplots(2,1)\n",
        "ax[0].plot(history.history['loss'], color='b', label=\"Training Loss\")\n",
        "ax[0].plot(history.history['val_loss'], color='r', label=\"Validation Loss\",axes =ax[0])\n",
        "legend = ax[0].legend(loc='best', shadow=True)\n",
        "\n",
        "ax[1].plot(history.history['accuracy'], color='b', label=\"Training Accuracy\")\n",
        "ax[1].plot(history.history['val_accuracy'], color='r',label=\"Validation Accuracy\")\n",
        "legend = ax[1].legend(loc='best', shadow=True)\n"
      ],
      "metadata": {
        "id": "Hpt8ffKw7RVl",
        "colab": {
          "base_uri": "https://localhost:8080/",
          "height": 265
        },
        "outputId": "b8e28384-a293-4957-e9c2-ff59f3d12ff0"
      },
      "execution_count": null,
      "outputs": [
        {
          "output_type": "display_data",
          "data": {
            "text/plain": [
              "<Figure size 432x288 with 2 Axes>"
            ],
            "image/png": "[encoded data removed]"
          },
          "metadata": {
            "needs_background": "light"
          }
        }
      ]
    },
    {
      "cell_type": "code",
      "source": [
        "test_loss, test_acc = model.evaluate(test_images, test_labels)\n",
        "print(test_acc)"
      ],
      "metadata": {
        "colab": {
          "base_uri": "https://localhost:8080/"
        },
        "id": "h9TEcZxVOevL",
        "outputId": "a8262c05-85b2-4cfa-98bb-75629c969dc6"
      },
      "execution_count": null,
      "outputs": [
        {
          "output_type": "stream",
          "name": "stdout",
          "text": [
            "313/313 [==============================] - 5s 16ms/step - loss: 0.0643 - accuracy: 0.9786\n",
            "0.978600025177002\n"
          ]
        }
      ]
    },
    {
      "cell_type": "code",
      "source": [
        "probability_model = tf.keras.Sequential([\n",
        "  model,\n",
        "  tf.keras.layers.Softmax()\n",
        "])"
      ],
      "metadata": {
        "id": "DRqUwFEeD4oA"
      },
      "execution_count": null,
      "outputs": []
    },
    {
      "cell_type": "code",
      "source": [
        "probability_model(training_images[:5])"
      ],
      "metadata": {
        "colab": {
          "base_uri": "https://localhost:8080/"
        },
        "id": "Y8ORfeIOD9Ig",
        "outputId": "8e6e1758-abda-46b3-ff76-426aa542a42f"
      },
      "execution_count": null,
      "outputs": [
        {
          "output_type": "execute_result",
          "data": {
            "text/plain": [
              "<tf.Tensor: shape=(5, 10), dtype=float32, numpy=\n",
              "array([[0.08576415, 0.08576424, 0.08576422, 0.08884478, 0.08576415,\n",
              "        0.22503881, 0.08576427, 0.08576424, 0.08576529, 0.08576588],\n",
              "       [0.23196909, 0.08533676, 0.08533677, 0.08533676, 0.08533677,\n",
              "        0.08533676, 0.0853368 , 0.08533677, 0.08533677, 0.08533677],\n",
              "       [0.08533834, 0.08533835, 0.08533859, 0.08533835, 0.23194396,\n",
              "        0.08533834, 0.08533834, 0.08533934, 0.0853384 , 0.08534794],\n",
              "       [0.08533759, 0.23195598, 0.08533761, 0.08533759, 0.08534187,\n",
              "        0.08533759, 0.08533759, 0.08533803, 0.08533857, 0.08533764],\n",
              "       [0.08534681, 0.08534681, 0.08534683, 0.08534732, 0.08540568,\n",
              "        0.08534683, 0.08534681, 0.08534875, 0.08535423, 0.23180996]],\n",
              "      dtype=float32)>"
            ]
          },
          "metadata": {},
          "execution_count": 41
        }
      ]
    },
    {
      "cell_type": "code",
      "source": [
        "plt.figure(figsize=(10,10))\n",
        "for i in range(25):\n",
        "    plt.subplot(5,5,i+1)\n",
        "    plt.xticks([])\n",
        "    plt.yticks([])\n",
        "    plt.grid(False)\n",
        "    plt.imshow(training_images[i][:,:,0])\n",
        "plt.show()"
      ],
      "metadata": {
        "colab": {
          "base_uri": "https://localhost:8080/",
          "height": 578
        },
        "id": "HkZ7a3aoEEs6",
        "outputId": "3bf34701-9073-4e1a-8a3c-f47bf73abc31"
      },
      "execution_count": null,
      "outputs": [
        {
          "output_type": "display_data",
          "data": {
            "text/plain": [
              "<Figure size 720x720 with 25 Axes>"
            ],
            "image/png": "[encoded data removed]"
          },
          "metadata": {}
        }
      ]
    }
  ]
}