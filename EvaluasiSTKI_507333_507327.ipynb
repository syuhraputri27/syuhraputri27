{
  "nbformat": 4,
  "nbformat_minor": 0,
  "metadata": {
    "colab": {
      "provenance": []
    },
    "kernelspec": {
      "name": "python3",
      "display_name": "Python 3"
    },
    "language_info": {
      "name": "python"
    }
  },
  "cells": [
    {
      "cell_type": "markdown",
      "source": [
        "Nama Anggota Kelompok :\n",
        "1. Syuhra Putri Ganiswari (22/507327/NPA/19811)\n",
        "2. Ifta Mu'izana (22/507333/NPA/19813)\n",
        "\n",
        "Kelas : KOM\n",
        "\n",
        "Mata Kuliah : Sistem Temu Kembali Informasi"
      ],
      "metadata": {
        "id": "RsUi_EcnToOf"
      }
    },
    {
      "cell_type": "markdown",
      "source": [
        "### **Evaluasi STKI dengan Kappa Measures/Cohen's Kappa**"
      ],
      "metadata": {
        "id": "opiqddpjBCWP"
      }
    },
    {
      "cell_type": "markdown",
      "source": [
        "Menggunakan Library Cohen's Kappa"
      ],
      "metadata": {
        "id": "vLaf8ZqqB2zd"
      }
    },
    {
      "cell_type": "code",
      "execution_count": null,
      "metadata": {
        "colab": {
          "base_uri": "https://localhost:8080/"
        },
        "id": "NcSj_fSx_7GF",
        "outputId": "af21644d-2376-4b45-fa8d-df7dc48ddc20"
      },
      "outputs": [
        {
          "output_type": "execute_result",
          "data": {
            "text/plain": [
              "0.5454545454545454"
            ]
          },
          "metadata": {},
          "execution_count": 9
        }
      ],
      "source": [
        "# import library\n",
        "from sklearn.metrics import cohen_kappa_score\n",
        "\n",
        "penilai1 = [0,1,1,1,1]\n",
        "penilai2 = [0,1,0,1,1]\n",
        "\n",
        "# menghitung Cohen's Kappa\n",
        "cohen_kappa_score(penilai1,penilai2)"
      ]
    }
  ]
}