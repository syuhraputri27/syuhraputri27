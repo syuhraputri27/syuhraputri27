{
  "nbformat": 4,
  "nbformat_minor": 0,
  "metadata": {
    "colab": {
      "provenance": [],
      "authorship_tag": "ABX9TyPAm6uG/g5xsjCdJFB79qk2",
      "include_colab_link": true
    },
    "kernelspec": {
      "name": "python3",
      "display_name": "Python 3"
    },
    "language_info": {
      "name": "python"
    }
  },
  "cells": [
    {
      "cell_type": "markdown",
      "metadata": {
        "id": "view-in-github",
        "colab_type": "text"
      },
      "source": [
        "<a href=\"https://colab.research.google.com/github/syuhraputri27/syuhraputri27/blob/main/507327_KerasIris.ipynb\" target=\"_parent\"><img src=\"https://colab.research.google.com/assets/colab-badge.svg\" alt=\"Open In Colab\"/></a>"
      ]
    },
    {
      "cell_type": "markdown",
      "source": [
        "**Keras untuk IRIS**"
      ],
      "metadata": {
        "id": "4PLzMZFACyk5"
      }
    },
    {
      "cell_type": "markdown",
      "source": [
        "Keras Model Sequential dan Layers"
      ],
      "metadata": {
        "id": "TP65-JUuDVE7"
      }
    },
    {
      "cell_type": "code",
      "execution_count": null,
      "metadata": {
        "id": "pcz_5Jk4CNLC"
      },
      "outputs": [],
      "source": [
        "# model = keras.Sequential()\n",
        "# model.add(layers.Dense(64, activation=\"relu\"))\n",
        "# model.add(layers.Dense(32, activation=\"relu\"))\n",
        "# model.add(layers.Dense(4))\n",
        "\n",
        "from sklearn import datasets\n",
        "from sklearn.model_selection import train_test_split\n",
        "import tensorflow as tf\n",
        "from tensorflow import keras\n",
        "from tensorflow.keras import layers\n",
        "from tensorflow.keras.utils import to_categorical"
      ]
    },
    {
      "cell_type": "code",
      "source": [
        "# Define Sequential model with 3 layers\n",
        "model = keras.Sequential(\n",
        "    [\n",
        "        layers.Dense(2, activation=\"relu\", name=\"layer1\"),\n",
        "        layers.Dense(3, activation=\"relu\", name=\"layer2\"),\n",
        "        layers.Dense(4, name=\"layer3\"),\n",
        "    ])"
      ],
      "metadata": {
        "id": "fcTAm1pHHOh6"
      },
      "execution_count": null,
      "outputs": []
    },
    {
      "cell_type": "markdown",
      "source": [
        "Load Data"
      ],
      "metadata": {
        "id": "pGe58tLAEX_i"
      }
    },
    {
      "cell_type": "code",
      "source": [
        "iris = datasets.load_iris()\n",
        "X = iris.data\n",
        "y = iris.target\n",
        "\n",
        "X_train, X_test, Y_train, Y_test = train_test_split(X, y, test_size = 10)\n",
        "X_train, X_val, Y_train, Y_val = train_test_split(X_train, Y_train, test_size=.2)\n",
        "print('X_train',X_train.shape)\n",
        "print('X_val',X_val.shape)\n",
        "print('X_test',X_test.shape)\n",
        "\n",
        "Y_train = to_categorical(Y_train,3)\n",
        "Y_val = to_categorical(Y_val,3)\n",
        "Y_test = to_categorical(Y_test,3)\n"
      ],
      "metadata": {
        "colab": {
          "base_uri": "https://localhost:8080/"
        },
        "id": "N5ObMnxkEAPX",
        "outputId": "822c86b1-9a8c-491c-ca3d-6a01bc4bdc74"
      },
      "execution_count": null,
      "outputs": [
        {
          "output_type": "stream",
          "name": "stdout",
          "text": [
            "X_train (112, 4)\n",
            "X_val (28, 4)\n",
            "X_test (10, 4)\n"
          ]
        }
      ]
    },
    {
      "cell_type": "markdown",
      "source": [
        "Define Model and Compile Model"
      ],
      "metadata": {
        "id": "4bY86tSpHkfg"
      }
    },
    {
      "cell_type": "code",
      "source": [
        "from keras.models import Sequential\n",
        "from keras.layers import Flatten, Dense\n",
        "\n",
        "model = Sequential()\n",
        "model.add(Flatten())\n",
        "model.add(Dense(64,activation='relu'))\n",
        "model.add(Dense(3,activation='softmax'))\n",
        "\n",
        "model.compile(optimizer='adam',loss='categorical_crossentropy', metrics=['acc'])"
      ],
      "metadata": {
        "id": "9-QzyjEnHpWT"
      },
      "execution_count": null,
      "outputs": []
    },
    {
      "cell_type": "markdown",
      "source": [
        "Fit Model"
      ],
      "metadata": {
        "id": "RfZhLdU9IWw_"
      }
    },
    {
      "cell_type": "code",
      "source": [
        "model.fit(X_train,Y_train,epochs=64,batch_size=5,validation_data=(X_test,Y_test))\n",
        "model.summary()"
      ],
      "metadata": {
        "colab": {
          "base_uri": "https://localhost:8080/"
        },
        "id": "S2F7b5SsIU27",
        "outputId": "fdf3bf4a-04de-4d0c-bb3c-759bff2d8cdd"
      },
      "execution_count": null,
      "outputs": [
        {
          "output_type": "stream",
          "name": "stdout",
          "text": [
            "Epoch 1/64\n",
            "23/23 [==============================] - 1s 10ms/step - loss: 1.0865 - acc: 0.3482 - val_loss: 0.9424 - val_acc: 0.3000\n",
            "Epoch 2/64\n",
            "23/23 [==============================] - 0s 2ms/step - loss: 0.8598 - acc: 0.5268 - val_loss: 0.7666 - val_acc: 1.0000\n",
            "Epoch 3/64\n",
            "23/23 [==============================] - 0s 3ms/step - loss: 0.7228 - acc: 0.9107 - val_loss: 0.6439 - val_acc: 0.9000\n",
            "Epoch 4/64\n",
            "23/23 [==============================] - 0s 2ms/step - loss: 0.6325 - acc: 0.7500 - val_loss: 0.5561 - val_acc: 1.0000\n",
            "Epoch 5/64\n",
            "23/23 [==============================] - 0s 2ms/step - loss: 0.5632 - acc: 0.8661 - val_loss: 0.4928 - val_acc: 1.0000\n",
            "Epoch 6/64\n",
            "23/23 [==============================] - 0s 2ms/step - loss: 0.5157 - acc: 0.9018 - val_loss: 0.4403 - val_acc: 1.0000\n",
            "Epoch 7/64\n",
            "23/23 [==============================] - 0s 2ms/step - loss: 0.4733 - acc: 0.9464 - val_loss: 0.4025 - val_acc: 1.0000\n",
            "Epoch 8/64\n",
            "23/23 [==============================] - 0s 3ms/step - loss: 0.4437 - acc: 0.9196 - val_loss: 0.3709 - val_acc: 1.0000\n",
            "Epoch 9/64\n",
            "23/23 [==============================] - 0s 3ms/step - loss: 0.4189 - acc: 0.9464 - val_loss: 0.3484 - val_acc: 1.0000\n",
            "Epoch 10/64\n",
            "23/23 [==============================] - 0s 2ms/step - loss: 0.4006 - acc: 0.9018 - val_loss: 0.3259 - val_acc: 1.0000\n",
            "Epoch 11/64\n",
            "23/23 [==============================] - 0s 2ms/step - loss: 0.3839 - acc: 0.9286 - val_loss: 0.3058 - val_acc: 1.0000\n",
            "Epoch 12/64\n",
            "23/23 [==============================] - 0s 2ms/step - loss: 0.3692 - acc: 0.9375 - val_loss: 0.2881 - val_acc: 1.0000\n",
            "Epoch 13/64\n",
            "23/23 [==============================] - 0s 2ms/step - loss: 0.3513 - acc: 0.9286 - val_loss: 0.2747 - val_acc: 1.0000\n",
            "Epoch 14/64\n",
            "23/23 [==============================] - 0s 2ms/step - loss: 0.3441 - acc: 0.9464 - val_loss: 0.2655 - val_acc: 1.0000\n",
            "Epoch 15/64\n",
            "23/23 [==============================] - 0s 3ms/step - loss: 0.3270 - acc: 0.9464 - val_loss: 0.2471 - val_acc: 1.0000\n",
            "Epoch 16/64\n",
            "23/23 [==============================] - 0s 2ms/step - loss: 0.3185 - acc: 0.9464 - val_loss: 0.2369 - val_acc: 1.0000\n",
            "Epoch 17/64\n",
            "23/23 [==============================] - 0s 2ms/step - loss: 0.3061 - acc: 0.9554 - val_loss: 0.2247 - val_acc: 1.0000\n",
            "Epoch 18/64\n",
            "23/23 [==============================] - 0s 2ms/step - loss: 0.3001 - acc: 0.9286 - val_loss: 0.2212 - val_acc: 1.0000\n",
            "Epoch 19/64\n",
            "23/23 [==============================] - 0s 4ms/step - loss: 0.2881 - acc: 0.9107 - val_loss: 0.2044 - val_acc: 1.0000\n",
            "Epoch 20/64\n",
            "23/23 [==============================] - 0s 2ms/step - loss: 0.2835 - acc: 0.9375 - val_loss: 0.2021 - val_acc: 1.0000\n",
            "Epoch 21/64\n",
            "23/23 [==============================] - 0s 2ms/step - loss: 0.2734 - acc: 0.9464 - val_loss: 0.1845 - val_acc: 1.0000\n",
            "Epoch 22/64\n",
            "23/23 [==============================] - 0s 2ms/step - loss: 0.2591 - acc: 0.9643 - val_loss: 0.1810 - val_acc: 1.0000\n",
            "Epoch 23/64\n",
            "23/23 [==============================] - 0s 3ms/step - loss: 0.2536 - acc: 0.9732 - val_loss: 0.1671 - val_acc: 1.0000\n",
            "Epoch 24/64\n",
            "23/23 [==============================] - 0s 2ms/step - loss: 0.2437 - acc: 0.9643 - val_loss: 0.1604 - val_acc: 1.0000\n",
            "Epoch 25/64\n",
            "23/23 [==============================] - 0s 2ms/step - loss: 0.2419 - acc: 0.9464 - val_loss: 0.1520 - val_acc: 1.0000\n",
            "Epoch 26/64\n",
            "23/23 [==============================] - 0s 3ms/step - loss: 0.2320 - acc: 0.9554 - val_loss: 0.1440 - val_acc: 1.0000\n",
            "Epoch 27/64\n",
            "23/23 [==============================] - 0s 2ms/step - loss: 0.2287 - acc: 0.9643 - val_loss: 0.1363 - val_acc: 1.0000\n",
            "Epoch 28/64\n",
            "23/23 [==============================] - 0s 2ms/step - loss: 0.2222 - acc: 0.9464 - val_loss: 0.1303 - val_acc: 1.0000\n",
            "Epoch 29/64\n",
            "23/23 [==============================] - 0s 3ms/step - loss: 0.2199 - acc: 0.9643 - val_loss: 0.1251 - val_acc: 1.0000\n",
            "Epoch 30/64\n",
            "23/23 [==============================] - 0s 2ms/step - loss: 0.2056 - acc: 0.9643 - val_loss: 0.1209 - val_acc: 1.0000\n",
            "Epoch 31/64\n",
            "23/23 [==============================] - 0s 2ms/step - loss: 0.2025 - acc: 0.9464 - val_loss: 0.1238 - val_acc: 1.0000\n",
            "Epoch 32/64\n",
            "23/23 [==============================] - 0s 2ms/step - loss: 0.2008 - acc: 0.9554 - val_loss: 0.1185 - val_acc: 1.0000\n",
            "Epoch 33/64\n",
            "23/23 [==============================] - 0s 2ms/step - loss: 0.1949 - acc: 0.9643 - val_loss: 0.1120 - val_acc: 1.0000\n",
            "Epoch 34/64\n",
            "23/23 [==============================] - 0s 2ms/step - loss: 0.1889 - acc: 0.9821 - val_loss: 0.1085 - val_acc: 1.0000\n",
            "Epoch 35/64\n",
            "23/23 [==============================] - 0s 2ms/step - loss: 0.2022 - acc: 0.9375 - val_loss: 0.0936 - val_acc: 1.0000\n",
            "Epoch 36/64\n",
            "23/23 [==============================] - 0s 2ms/step - loss: 0.1718 - acc: 0.9643 - val_loss: 0.1108 - val_acc: 1.0000\n",
            "Epoch 37/64\n",
            "23/23 [==============================] - 0s 2ms/step - loss: 0.1723 - acc: 0.9554 - val_loss: 0.0864 - val_acc: 1.0000\n",
            "Epoch 38/64\n",
            "23/23 [==============================] - 0s 4ms/step - loss: 0.1836 - acc: 0.9464 - val_loss: 0.0933 - val_acc: 1.0000\n",
            "Epoch 39/64\n",
            "23/23 [==============================] - 0s 2ms/step - loss: 0.1733 - acc: 0.9643 - val_loss: 0.0801 - val_acc: 1.0000\n",
            "Epoch 40/64\n",
            "23/23 [==============================] - 0s 2ms/step - loss: 0.1778 - acc: 0.9554 - val_loss: 0.0959 - val_acc: 1.0000\n",
            "Epoch 41/64\n",
            "23/23 [==============================] - 0s 2ms/step - loss: 0.1671 - acc: 0.9643 - val_loss: 0.0759 - val_acc: 1.0000\n",
            "Epoch 42/64\n",
            "23/23 [==============================] - 0s 2ms/step - loss: 0.1558 - acc: 0.9821 - val_loss: 0.0838 - val_acc: 1.0000\n",
            "Epoch 43/64\n",
            "23/23 [==============================] - 0s 2ms/step - loss: 0.1594 - acc: 0.9554 - val_loss: 0.0675 - val_acc: 1.0000\n",
            "Epoch 44/64\n",
            "23/23 [==============================] - 0s 3ms/step - loss: 0.1601 - acc: 0.9464 - val_loss: 0.0819 - val_acc: 1.0000\n",
            "Epoch 45/64\n",
            "23/23 [==============================] - 0s 2ms/step - loss: 0.1519 - acc: 0.9732 - val_loss: 0.0681 - val_acc: 1.0000\n",
            "Epoch 46/64\n",
            "23/23 [==============================] - 0s 3ms/step - loss: 0.1561 - acc: 0.9464 - val_loss: 0.0694 - val_acc: 1.0000\n",
            "Epoch 47/64\n",
            "23/23 [==============================] - 0s 3ms/step - loss: 0.1551 - acc: 0.9554 - val_loss: 0.0582 - val_acc: 1.0000\n",
            "Epoch 48/64\n",
            "23/23 [==============================] - 0s 3ms/step - loss: 0.1471 - acc: 0.9554 - val_loss: 0.0621 - val_acc: 1.0000\n",
            "Epoch 49/64\n",
            "23/23 [==============================] - 0s 3ms/step - loss: 0.1456 - acc: 0.9732 - val_loss: 0.0646 - val_acc: 1.0000\n",
            "Epoch 50/64\n",
            "23/23 [==============================] - 0s 2ms/step - loss: 0.1371 - acc: 0.9732 - val_loss: 0.0552 - val_acc: 1.0000\n",
            "Epoch 51/64\n",
            "23/23 [==============================] - 0s 2ms/step - loss: 0.1397 - acc: 0.9643 - val_loss: 0.0597 - val_acc: 1.0000\n",
            "Epoch 52/64\n",
            "23/23 [==============================] - 0s 3ms/step - loss: 0.1359 - acc: 0.9643 - val_loss: 0.0524 - val_acc: 1.0000\n",
            "Epoch 53/64\n",
            "23/23 [==============================] - 0s 2ms/step - loss: 0.1382 - acc: 0.9554 - val_loss: 0.0495 - val_acc: 1.0000\n",
            "Epoch 54/64\n",
            "23/23 [==============================] - 0s 3ms/step - loss: 0.1445 - acc: 0.9554 - val_loss: 0.0562 - val_acc: 1.0000\n",
            "Epoch 55/64\n",
            "23/23 [==============================] - 0s 2ms/step - loss: 0.1319 - acc: 0.9732 - val_loss: 0.0521 - val_acc: 1.0000\n",
            "Epoch 56/64\n",
            "23/23 [==============================] - 0s 2ms/step - loss: 0.1340 - acc: 0.9643 - val_loss: 0.0561 - val_acc: 1.0000\n",
            "Epoch 57/64\n",
            "23/23 [==============================] - 0s 2ms/step - loss: 0.1359 - acc: 0.9643 - val_loss: 0.0535 - val_acc: 1.0000\n",
            "Epoch 58/64\n",
            "23/23 [==============================] - 0s 2ms/step - loss: 0.1256 - acc: 0.9732 - val_loss: 0.0502 - val_acc: 1.0000\n",
            "Epoch 59/64\n",
            "23/23 [==============================] - 0s 2ms/step - loss: 0.1282 - acc: 0.9732 - val_loss: 0.0431 - val_acc: 1.0000\n",
            "Epoch 60/64\n",
            "23/23 [==============================] - 0s 2ms/step - loss: 0.1242 - acc: 0.9732 - val_loss: 0.0482 - val_acc: 1.0000\n",
            "Epoch 61/64\n",
            "23/23 [==============================] - 0s 2ms/step - loss: 0.1235 - acc: 0.9643 - val_loss: 0.0412 - val_acc: 1.0000\n",
            "Epoch 62/64\n",
            "23/23 [==============================] - 0s 2ms/step - loss: 0.1210 - acc: 0.9732 - val_loss: 0.0413 - val_acc: 1.0000\n",
            "Epoch 63/64\n",
            "23/23 [==============================] - 0s 3ms/step - loss: 0.1199 - acc: 0.9732 - val_loss: 0.0388 - val_acc: 1.0000\n",
            "Epoch 64/64\n",
            "23/23 [==============================] - 0s 2ms/step - loss: 0.1195 - acc: 0.9732 - val_loss: 0.0377 - val_acc: 1.0000\n",
            "Model: \"sequential_1\"\n",
            "_________________________________________________________________\n",
            " Layer (type)                Output Shape              Param #   \n",
            "=================================================================\n",
            " flatten (Flatten)           (None, 4)                 0         \n",
            "                                                                 \n",
            " dense (Dense)               (None, 64)                320       \n",
            "                                                                 \n",
            " dense_1 (Dense)             (None, 3)                 195       \n",
            "                                                                 \n",
            "=================================================================\n",
            "Total params: 515\n",
            "Trainable params: 515\n",
            "Non-trainable params: 0\n",
            "_________________________________________________________________\n"
          ]
        }
      ]
    },
    {
      "cell_type": "markdown",
      "source": [
        "Evaluation Model"
      ],
      "metadata": {
        "id": "jlNeRTDVI3xu"
      }
    },
    {
      "cell_type": "code",
      "source": [
        "loss, accuracy = model.evaluate(X_test, Y_test)\n",
        "print('Akurasi Testing MLP:', accuracy)"
      ],
      "metadata": {
        "colab": {
          "base_uri": "https://localhost:8080/"
        },
        "id": "91hUxT6xI6my",
        "outputId": "2c47d7c5-a93a-41a8-b2e5-25e9a089c528"
      },
      "execution_count": null,
      "outputs": [
        {
          "output_type": "stream",
          "name": "stdout",
          "text": [
            "1/1 [==============================] - 0s 125ms/step - loss: 0.0377 - acc: 1.0000\n",
            "Akurasi Testing MLP: 1.0\n"
          ]
        }
      ]
    }
  ]
}